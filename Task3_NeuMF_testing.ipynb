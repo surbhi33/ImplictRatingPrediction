{
  "cells": [
    {
      "cell_type": "markdown",
      "metadata": {
        "id": "ckIHNbEMV5mE"
      },
      "source": [
        "# Baseline Model: Implicit Ratings"
      ]
    },
    {
      "cell_type": "code",
      "execution_count": 2,
      "metadata": {
        "id": "ue4lPFPcVWeT"
      },
      "outputs": [],
      "source": [
        "import pandas as pd\n",
        "import numpy as np\n",
        "import torch\n",
        "import torch.nn as nn\n",
        "import random\n",
        "\n",
        "import torch.nn.functional as F\n",
        "from torch.utils.data import Dataset, DataLoader\n",
        "from torch.utils.data.sampler import SubsetRandomSampler, SequentialSampler "
      ]
    },
    {
      "cell_type": "code",
      "execution_count": 3,
      "metadata": {
        "colab": {
          "base_uri": "https://localhost:8080/"
        },
        "id": "svRsOqm5Wd15",
        "outputId": "06604776-f80f-411d-d4b1-601f39f69bff"
      },
      "outputs": [
        {
          "output_type": "stream",
          "name": "stdout",
          "text": [
            "Mounted at /content/drive\n"
          ]
        }
      ],
      "source": [
        "from google.colab import drive\n",
        "drive.mount('/content/drive')"
      ]
    },
    {
      "cell_type": "code",
      "execution_count": 4,
      "metadata": {
        "colab": {
          "base_uri": "https://localhost:8080/"
        },
        "id": "kbopp967Y4mQ",
        "outputId": "0b97828c-d7d5-4080-b079-16f8f46a7fb8"
      },
      "outputs": [
        {
          "output_type": "execute_result",
          "data": {
            "text/plain": [
              "device(type='cuda', index=0)"
            ]
          },
          "metadata": {},
          "execution_count": 4
        }
      ],
      "source": [
        "# Figure out whether we have a GPU; if not use the CPU\n",
        "device = torch.device('cuda:0' if torch.cuda.is_available() else 'cpu')\n",
        "device"
      ]
    },
    {
      "cell_type": "markdown",
      "metadata": {
        "id": "480vASCYXKJp"
      },
      "source": [
        "## Data Import and Processing"
      ]
    },
    {
      "cell_type": "code",
      "source": [
        "feat_df = pd.read_csv('/content/drive/MyDrive/Data_Implict_Ratings/item_feature.csv')"
      ],
      "metadata": {
        "id": "j2RoHvHnSeMN"
      },
      "execution_count": 6,
      "outputs": []
    },
    {
      "cell_type": "code",
      "source": [
        "feat_df[feat_df['item_id']==28949]"
      ],
      "metadata": {
        "colab": {
          "base_uri": "https://localhost:8080/",
          "height": 80
        },
        "id": "AdHRw73xfCTk",
        "outputId": "090a8f91-200b-4322-9670-cd1445cf41c8"
      },
      "execution_count": 7,
      "outputs": [
        {
          "output_type": "execute_result",
          "data": {
            "text/html": [
              "\n",
              "  <div id=\"df-de516a81-2731-45c8-8203-c448dfde2045\">\n",
              "    <div class=\"colab-df-container\">\n",
              "      <div>\n",
              "<style scoped>\n",
              "    .dataframe tbody tr th:only-of-type {\n",
              "        vertical-align: middle;\n",
              "    }\n",
              "\n",
              "    .dataframe tbody tr th {\n",
              "        vertical-align: top;\n",
              "    }\n",
              "\n",
              "    .dataframe thead th {\n",
              "        text-align: right;\n",
              "    }\n",
              "</style>\n",
              "<table border=\"1\" class=\"dataframe\">\n",
              "  <thead>\n",
              "    <tr style=\"text-align: right;\">\n",
              "      <th></th>\n",
              "      <th>item_id</th>\n",
              "      <th>item_feature_id</th>\n",
              "    </tr>\n",
              "  </thead>\n",
              "  <tbody>\n",
              "    <tr>\n",
              "      <th>28949</th>\n",
              "      <td>28949</td>\n",
              "      <td>139</td>\n",
              "    </tr>\n",
              "  </tbody>\n",
              "</table>\n",
              "</div>\n",
              "      <button class=\"colab-df-convert\" onclick=\"convertToInteractive('df-de516a81-2731-45c8-8203-c448dfde2045')\"\n",
              "              title=\"Convert this dataframe to an interactive table.\"\n",
              "              style=\"display:none;\">\n",
              "        \n",
              "  <svg xmlns=\"http://www.w3.org/2000/svg\" height=\"24px\"viewBox=\"0 0 24 24\"\n",
              "       width=\"24px\">\n",
              "    <path d=\"M0 0h24v24H0V0z\" fill=\"none\"/>\n",
              "    <path d=\"M18.56 5.44l.94 2.06.94-2.06 2.06-.94-2.06-.94-.94-2.06-.94 2.06-2.06.94zm-11 1L8.5 8.5l.94-2.06 2.06-.94-2.06-.94L8.5 2.5l-.94 2.06-2.06.94zm10 10l.94 2.06.94-2.06 2.06-.94-2.06-.94-.94-2.06-.94 2.06-2.06.94z\"/><path d=\"M17.41 7.96l-1.37-1.37c-.4-.4-.92-.59-1.43-.59-.52 0-1.04.2-1.43.59L10.3 9.45l-7.72 7.72c-.78.78-.78 2.05 0 2.83L4 21.41c.39.39.9.59 1.41.59.51 0 1.02-.2 1.41-.59l7.78-7.78 2.81-2.81c.8-.78.8-2.07 0-2.86zM5.41 20L4 18.59l7.72-7.72 1.47 1.35L5.41 20z\"/>\n",
              "  </svg>\n",
              "      </button>\n",
              "      \n",
              "  <style>\n",
              "    .colab-df-container {\n",
              "      display:flex;\n",
              "      flex-wrap:wrap;\n",
              "      gap: 12px;\n",
              "    }\n",
              "\n",
              "    .colab-df-convert {\n",
              "      background-color: #E8F0FE;\n",
              "      border: none;\n",
              "      border-radius: 50%;\n",
              "      cursor: pointer;\n",
              "      display: none;\n",
              "      fill: #1967D2;\n",
              "      height: 32px;\n",
              "      padding: 0 0 0 0;\n",
              "      width: 32px;\n",
              "    }\n",
              "\n",
              "    .colab-df-convert:hover {\n",
              "      background-color: #E2EBFA;\n",
              "      box-shadow: 0px 1px 2px rgba(60, 64, 67, 0.3), 0px 1px 3px 1px rgba(60, 64, 67, 0.15);\n",
              "      fill: #174EA6;\n",
              "    }\n",
              "\n",
              "    [theme=dark] .colab-df-convert {\n",
              "      background-color: #3B4455;\n",
              "      fill: #D2E3FC;\n",
              "    }\n",
              "\n",
              "    [theme=dark] .colab-df-convert:hover {\n",
              "      background-color: #434B5C;\n",
              "      box-shadow: 0px 1px 3px 1px rgba(0, 0, 0, 0.15);\n",
              "      filter: drop-shadow(0px 1px 2px rgba(0, 0, 0, 0.3));\n",
              "      fill: #FFFFFF;\n",
              "    }\n",
              "  </style>\n",
              "\n",
              "      <script>\n",
              "        const buttonEl =\n",
              "          document.querySelector('#df-de516a81-2731-45c8-8203-c448dfde2045 button.colab-df-convert');\n",
              "        buttonEl.style.display =\n",
              "          google.colab.kernel.accessAllowed ? 'block' : 'none';\n",
              "\n",
              "        async function convertToInteractive(key) {\n",
              "          const element = document.querySelector('#df-de516a81-2731-45c8-8203-c448dfde2045');\n",
              "          const dataTable =\n",
              "            await google.colab.kernel.invokeFunction('convertToInteractive',\n",
              "                                                     [key], {});\n",
              "          if (!dataTable) return;\n",
              "\n",
              "          const docLinkHtml = 'Like what you see? Visit the ' +\n",
              "            '<a target=\"_blank\" href=https://colab.research.google.com/notebooks/data_table.ipynb>data table notebook</a>'\n",
              "            + ' to learn more about interactive tables.';\n",
              "          element.innerHTML = '';\n",
              "          dataTable['output_type'] = 'display_data';\n",
              "          await google.colab.output.renderOutput(dataTable, element);\n",
              "          const docLink = document.createElement('div');\n",
              "          docLink.innerHTML = docLinkHtml;\n",
              "          element.appendChild(docLink);\n",
              "        }\n",
              "      </script>\n",
              "    </div>\n",
              "  </div>\n",
              "  "
            ],
            "text/plain": [
              "       item_id  item_feature_id\n",
              "28949    28949              139"
            ]
          },
          "metadata": {},
          "execution_count": 7
        }
      ]
    },
    {
      "cell_type": "code",
      "execution_count": 112,
      "metadata": {
        "id": "_2t67fY-WJCj"
      },
      "outputs": [],
      "source": [
        "# Load in training data\n",
        "df_train_full = pd.read_csv(\"/content/drive/MyDrive/Data_Implict_Ratings/training.csv\")\n",
        "\n",
        "#total_train_2ns_seed0_new\n",
        "#df_train_full.drop('item_feature_id',axis=1,inplace=True)\n",
        "df_train_full.drop_duplicates(inplace=True)\n",
        "\n",
        "##train_df = df_train_full.join(feat_df, on='item_id', how='left', rsuffix='dup').drop('item_iddup', axis=1)\n",
        "#train_df.head()"
      ]
    },
    {
      "cell_type": "code",
      "source": [
        "df_train_full.drop('context_feature_id',axis=1,inplace=True)"
      ],
      "metadata": {
        "id": "WURcM56ZczXm"
      },
      "execution_count": 114,
      "outputs": []
    },
    {
      "cell_type": "code",
      "source": [
        "#train_df.drop('item_feature_iddup',axis=1,inplace=True)"
      ],
      "metadata": {
        "id": "Cq_bUg4LdAkb"
      },
      "execution_count": 17,
      "outputs": []
    },
    {
      "cell_type": "code",
      "source": [
        "#train_df.drop_duplicates(inplace=True)"
      ],
      "metadata": {
        "id": "6MHuWlrOdDP-"
      },
      "execution_count": 18,
      "outputs": []
    },
    {
      "cell_type": "code",
      "source": [
        "df_train_full"
      ],
      "metadata": {
        "colab": {
          "base_uri": "https://localhost:8080/",
          "height": 423
        },
        "id": "cJbPcIhWdFRZ",
        "outputId": "fd2b0eaa-709c-4397-cf18-bfbda97a5e93"
      },
      "execution_count": 115,
      "outputs": [
        {
          "output_type": "execute_result",
          "data": {
            "text/html": [
              "\n",
              "  <div id=\"df-f8113ddb-2cfd-4503-b300-53c82d728b5f\">\n",
              "    <div class=\"colab-df-container\">\n",
              "      <div>\n",
              "<style scoped>\n",
              "    .dataframe tbody tr th:only-of-type {\n",
              "        vertical-align: middle;\n",
              "    }\n",
              "\n",
              "    .dataframe tbody tr th {\n",
              "        vertical-align: top;\n",
              "    }\n",
              "\n",
              "    .dataframe thead th {\n",
              "        text-align: right;\n",
              "    }\n",
              "</style>\n",
              "<table border=\"1\" class=\"dataframe\">\n",
              "  <thead>\n",
              "    <tr style=\"text-align: right;\">\n",
              "      <th></th>\n",
              "      <th>user_id</th>\n",
              "      <th>item_id</th>\n",
              "    </tr>\n",
              "  </thead>\n",
              "  <tbody>\n",
              "    <tr>\n",
              "      <th>0</th>\n",
              "      <td>0</td>\n",
              "      <td>28366</td>\n",
              "    </tr>\n",
              "    <tr>\n",
              "      <th>1</th>\n",
              "      <td>0</td>\n",
              "      <td>16109</td>\n",
              "    </tr>\n",
              "    <tr>\n",
              "      <th>2</th>\n",
              "      <td>0</td>\n",
              "      <td>11500</td>\n",
              "    </tr>\n",
              "    <tr>\n",
              "      <th>3</th>\n",
              "      <td>0</td>\n",
              "      <td>20750</td>\n",
              "    </tr>\n",
              "    <tr>\n",
              "      <th>4</th>\n",
              "      <td>0</td>\n",
              "      <td>8759</td>\n",
              "    </tr>\n",
              "    <tr>\n",
              "      <th>...</th>\n",
              "      <td>...</td>\n",
              "      <td>...</td>\n",
              "    </tr>\n",
              "    <tr>\n",
              "      <th>970239</th>\n",
              "      <td>200150</td>\n",
              "      <td>20387</td>\n",
              "    </tr>\n",
              "    <tr>\n",
              "      <th>970240</th>\n",
              "      <td>200152</td>\n",
              "      <td>30710</td>\n",
              "    </tr>\n",
              "    <tr>\n",
              "      <th>970242</th>\n",
              "      <td>200152</td>\n",
              "      <td>12006</td>\n",
              "    </tr>\n",
              "    <tr>\n",
              "      <th>970243</th>\n",
              "      <td>200152</td>\n",
              "      <td>25030</td>\n",
              "    </tr>\n",
              "    <tr>\n",
              "      <th>970244</th>\n",
              "      <td>200152</td>\n",
              "      <td>14578</td>\n",
              "    </tr>\n",
              "  </tbody>\n",
              "</table>\n",
              "<p>892371 rows × 2 columns</p>\n",
              "</div>\n",
              "      <button class=\"colab-df-convert\" onclick=\"convertToInteractive('df-f8113ddb-2cfd-4503-b300-53c82d728b5f')\"\n",
              "              title=\"Convert this dataframe to an interactive table.\"\n",
              "              style=\"display:none;\">\n",
              "        \n",
              "  <svg xmlns=\"http://www.w3.org/2000/svg\" height=\"24px\"viewBox=\"0 0 24 24\"\n",
              "       width=\"24px\">\n",
              "    <path d=\"M0 0h24v24H0V0z\" fill=\"none\"/>\n",
              "    <path d=\"M18.56 5.44l.94 2.06.94-2.06 2.06-.94-2.06-.94-.94-2.06-.94 2.06-2.06.94zm-11 1L8.5 8.5l.94-2.06 2.06-.94-2.06-.94L8.5 2.5l-.94 2.06-2.06.94zm10 10l.94 2.06.94-2.06 2.06-.94-2.06-.94-.94-2.06-.94 2.06-2.06.94z\"/><path d=\"M17.41 7.96l-1.37-1.37c-.4-.4-.92-.59-1.43-.59-.52 0-1.04.2-1.43.59L10.3 9.45l-7.72 7.72c-.78.78-.78 2.05 0 2.83L4 21.41c.39.39.9.59 1.41.59.51 0 1.02-.2 1.41-.59l7.78-7.78 2.81-2.81c.8-.78.8-2.07 0-2.86zM5.41 20L4 18.59l7.72-7.72 1.47 1.35L5.41 20z\"/>\n",
              "  </svg>\n",
              "      </button>\n",
              "      \n",
              "  <style>\n",
              "    .colab-df-container {\n",
              "      display:flex;\n",
              "      flex-wrap:wrap;\n",
              "      gap: 12px;\n",
              "    }\n",
              "\n",
              "    .colab-df-convert {\n",
              "      background-color: #E8F0FE;\n",
              "      border: none;\n",
              "      border-radius: 50%;\n",
              "      cursor: pointer;\n",
              "      display: none;\n",
              "      fill: #1967D2;\n",
              "      height: 32px;\n",
              "      padding: 0 0 0 0;\n",
              "      width: 32px;\n",
              "    }\n",
              "\n",
              "    .colab-df-convert:hover {\n",
              "      background-color: #E2EBFA;\n",
              "      box-shadow: 0px 1px 2px rgba(60, 64, 67, 0.3), 0px 1px 3px 1px rgba(60, 64, 67, 0.15);\n",
              "      fill: #174EA6;\n",
              "    }\n",
              "\n",
              "    [theme=dark] .colab-df-convert {\n",
              "      background-color: #3B4455;\n",
              "      fill: #D2E3FC;\n",
              "    }\n",
              "\n",
              "    [theme=dark] .colab-df-convert:hover {\n",
              "      background-color: #434B5C;\n",
              "      box-shadow: 0px 1px 3px 1px rgba(0, 0, 0, 0.15);\n",
              "      filter: drop-shadow(0px 1px 2px rgba(0, 0, 0, 0.3));\n",
              "      fill: #FFFFFF;\n",
              "    }\n",
              "  </style>\n",
              "\n",
              "      <script>\n",
              "        const buttonEl =\n",
              "          document.querySelector('#df-f8113ddb-2cfd-4503-b300-53c82d728b5f button.colab-df-convert');\n",
              "        buttonEl.style.display =\n",
              "          google.colab.kernel.accessAllowed ? 'block' : 'none';\n",
              "\n",
              "        async function convertToInteractive(key) {\n",
              "          const element = document.querySelector('#df-f8113ddb-2cfd-4503-b300-53c82d728b5f');\n",
              "          const dataTable =\n",
              "            await google.colab.kernel.invokeFunction('convertToInteractive',\n",
              "                                                     [key], {});\n",
              "          if (!dataTable) return;\n",
              "\n",
              "          const docLinkHtml = 'Like what you see? Visit the ' +\n",
              "            '<a target=\"_blank\" href=https://colab.research.google.com/notebooks/data_table.ipynb>data table notebook</a>'\n",
              "            + ' to learn more about interactive tables.';\n",
              "          element.innerHTML = '';\n",
              "          dataTable['output_type'] = 'display_data';\n",
              "          await google.colab.output.renderOutput(dataTable, element);\n",
              "          const docLink = document.createElement('div');\n",
              "          docLink.innerHTML = docLinkHtml;\n",
              "          element.appendChild(docLink);\n",
              "        }\n",
              "      </script>\n",
              "    </div>\n",
              "  </div>\n",
              "  "
            ],
            "text/plain": [
              "        user_id  item_id\n",
              "0             0    28366\n",
              "1             0    16109\n",
              "2             0    11500\n",
              "3             0    20750\n",
              "4             0     8759\n",
              "...         ...      ...\n",
              "970239   200150    20387\n",
              "970240   200152    30710\n",
              "970242   200152    12006\n",
              "970243   200152    25030\n",
              "970244   200152    14578\n",
              "\n",
              "[892371 rows x 2 columns]"
            ]
          },
          "metadata": {},
          "execution_count": 115
        }
      ]
    },
    {
      "cell_type": "code",
      "source": [
        "def NegativeSampleUniform(df):\n",
        "    users=df['user_id'].unique()\n",
        "    items=df['item_id'].unique()\n",
        "    final=[]\n",
        "    for i,user_id in enumerate(list(users)):\n",
        "      if i%1000==0:\n",
        "        print(i)\n",
        "      one_user_data=df[df['user_id'] == user_id] \n",
        "      item_already=set(one_user_data['item_id'].unique())\n",
        "      filtered = set(items).difference(item_already)\n",
        "      #np.random.seed(3)\n",
        "      #print(user_id,2*len(one_user_data['item_id']),len((filtered)))\n",
        "      if user_id==200153:\n",
        "        neg_samples=random.choices(list(filtered), k=2*len(one_user_data['item_id']))\n",
        "      else:\n",
        "        neg_samples=random.sample(list(filtered), 2*len(one_user_data['item_id']))\n",
        "      user_new=[user_id for k in range(len(neg_samples))]\n",
        "      #srr=np.array(one_user_data['context_feature_id'])\n",
        "      #context=np.append(srr,srr)\n",
        "      check=[(i,j) for i,j in zip(user_new,neg_samples)]\n",
        "      final.append(check)\n",
        "    final = [item for sublist in final for item in sublist]\n",
        "    neg_samples_df=pd.DataFrame(final,columns=['user_id','item_id'])\n",
        "    #print(neg_samples_df)\n",
        "    neg_samples_df = neg_samples_df.join(feat_df, on='item_id', how='left', rsuffix='dup').drop('item_iddup', axis=1)\n",
        "    df = df.join(feat_df, on='item_id', how='left', rsuffix='dup').drop('item_iddup', axis=1)\n",
        "    df['flag']=1\n",
        "    neg_samples_df['flag']=0\n",
        "    df1=pd.concat([df[['user_id','item_id','item_feature_id','flag']],neg_samples_df])\n",
        "    return df1"
      ],
      "metadata": {
        "id": "YKsl9drLUiA3"
      },
      "execution_count": 122,
      "outputs": []
    },
    {
      "cell_type": "code",
      "source": [
        "new_df=NegativeSampleUniform(df_train_full)"
      ],
      "metadata": {
        "colab": {
          "base_uri": "https://localhost:8080/"
        },
        "id": "ISYU6OL6gfX8",
        "outputId": "c6209147-49db-46de-8651-449a26d30b5e"
      },
      "execution_count": null,
      "outputs": [
        {
          "output_type": "stream",
          "name": "stdout",
          "text": [
            "0\n",
            "1000\n",
            "2000\n",
            "3000\n",
            "4000\n",
            "5000\n",
            "6000\n",
            "7000\n",
            "8000\n",
            "9000\n",
            "10000\n",
            "11000\n",
            "12000\n",
            "13000\n",
            "14000\n",
            "15000\n",
            "16000\n",
            "17000\n",
            "18000\n",
            "19000\n",
            "20000\n",
            "21000\n",
            "22000\n",
            "23000\n",
            "24000\n",
            "25000\n",
            "26000\n",
            "27000\n",
            "28000\n",
            "29000\n",
            "30000\n",
            "31000\n",
            "32000\n",
            "33000\n",
            "34000\n",
            "35000\n",
            "36000\n",
            "37000\n",
            "38000\n",
            "39000\n",
            "40000\n",
            "41000\n",
            "42000\n",
            "43000\n",
            "44000\n",
            "45000\n",
            "46000\n",
            "47000\n",
            "48000\n",
            "49000\n",
            "50000\n",
            "51000\n",
            "52000\n",
            "53000\n",
            "54000\n",
            "55000\n",
            "56000\n",
            "57000\n",
            "58000\n",
            "59000\n",
            "60000\n",
            "61000\n",
            "62000\n",
            "63000\n",
            "64000\n",
            "65000\n",
            "66000\n",
            "67000\n"
          ]
        }
      ]
    },
    {
      "cell_type": "code",
      "source": [
        "train_df.shape[0]/3"
      ],
      "metadata": {
        "colab": {
          "base_uri": "https://localhost:8080/"
        },
        "id": "g02wsC0O8Cj7",
        "outputId": "f4b09383-19cb-485d-ef4d-880fd88f0f91"
      },
      "execution_count": 24,
      "outputs": [
        {
          "output_type": "execute_result",
          "data": {
            "text/plain": [
              "552399.6666666666"
            ]
          },
          "metadata": {},
          "execution_count": 24
        }
      ]
    },
    {
      "cell_type": "code",
      "source": [
        "#train_df['item_feature_id']=train_df['item_feature_id'].astype(int)"
      ],
      "metadata": {
        "id": "ULHFIeE3n8wQ"
      },
      "execution_count": null,
      "outputs": []
    },
    {
      "cell_type": "code",
      "source": [
        "#user_freq=pd.DataFrame(train_df['user_id'].value_counts()/sum(train_df['user_id'].value_counts()))\n",
        "#user_freq"
      ],
      "metadata": {
        "id": "UfO-N70HXCIF"
      },
      "execution_count": null,
      "outputs": []
    },
    {
      "cell_type": "code",
      "source": [
        "#items_freq=pd.DataFrame(train_df['item_id'].value_counts()/sum(train_df['item_id'].value_counts()))\n"
      ],
      "metadata": {
        "id": "kQq5VfEcRbsc"
      },
      "execution_count": null,
      "outputs": []
    },
    {
      "cell_type": "code",
      "source": [
        "#train_df = train_df.join(user_freq, on='user_id', how='left', rsuffix='dup').rename(columns={'user_iddup':'user_freq'})\n",
        "##train_df = train_df.join(items_freq, on='item_id', how='left', rsuffix='dup').rename(columns={'item_iddup':'items_freq'})\n",
        "#train_df.head()\n"
      ],
      "metadata": {
        "id": "c1QDSSDyRmvo"
      },
      "execution_count": null,
      "outputs": []
    },
    {
      "cell_type": "code",
      "execution_count": 25,
      "metadata": {
        "colab": {
          "base_uri": "https://localhost:8080/",
          "height": 206
        },
        "id": "ZA_F6V0EIbFH",
        "outputId": "4987957a-c461-4c79-a263-93b04d1acd00"
      },
      "outputs": [
        {
          "output_type": "execute_result",
          "data": {
            "text/html": [
              "\n",
              "  <div id=\"df-900d1187-bed0-4cfe-838a-edcfdfecc663\">\n",
              "    <div class=\"colab-df-container\">\n",
              "      <div>\n",
              "<style scoped>\n",
              "    .dataframe tbody tr th:only-of-type {\n",
              "        vertical-align: middle;\n",
              "    }\n",
              "\n",
              "    .dataframe tbody tr th {\n",
              "        vertical-align: top;\n",
              "    }\n",
              "\n",
              "    .dataframe thead th {\n",
              "        text-align: right;\n",
              "    }\n",
              "</style>\n",
              "<table border=\"1\" class=\"dataframe\">\n",
              "  <thead>\n",
              "    <tr style=\"text-align: right;\">\n",
              "      <th></th>\n",
              "      <th>id</th>\n",
              "      <th>user_id</th>\n",
              "      <th>item_id</th>\n",
              "      <th>context_feature_id</th>\n",
              "      <th>item_feature_id</th>\n",
              "    </tr>\n",
              "  </thead>\n",
              "  <tbody>\n",
              "    <tr>\n",
              "      <th>0</th>\n",
              "      <td>0</td>\n",
              "      <td>4</td>\n",
              "      <td>16835</td>\n",
              "      <td>2</td>\n",
              "      <td>142</td>\n",
              "    </tr>\n",
              "    <tr>\n",
              "      <th>1</th>\n",
              "      <td>1</td>\n",
              "      <td>4</td>\n",
              "      <td>22590</td>\n",
              "      <td>3</td>\n",
              "      <td>142</td>\n",
              "    </tr>\n",
              "    <tr>\n",
              "      <th>2</th>\n",
              "      <td>2</td>\n",
              "      <td>4</td>\n",
              "      <td>1978</td>\n",
              "      <td>1</td>\n",
              "      <td>142</td>\n",
              "    </tr>\n",
              "    <tr>\n",
              "      <th>3</th>\n",
              "      <td>3</td>\n",
              "      <td>4</td>\n",
              "      <td>28916</td>\n",
              "      <td>1</td>\n",
              "      <td>148</td>\n",
              "    </tr>\n",
              "    <tr>\n",
              "      <th>4</th>\n",
              "      <td>4</td>\n",
              "      <td>4</td>\n",
              "      <td>14427</td>\n",
              "      <td>2</td>\n",
              "      <td>63</td>\n",
              "    </tr>\n",
              "  </tbody>\n",
              "</table>\n",
              "</div>\n",
              "      <button class=\"colab-df-convert\" onclick=\"convertToInteractive('df-900d1187-bed0-4cfe-838a-edcfdfecc663')\"\n",
              "              title=\"Convert this dataframe to an interactive table.\"\n",
              "              style=\"display:none;\">\n",
              "        \n",
              "  <svg xmlns=\"http://www.w3.org/2000/svg\" height=\"24px\"viewBox=\"0 0 24 24\"\n",
              "       width=\"24px\">\n",
              "    <path d=\"M0 0h24v24H0V0z\" fill=\"none\"/>\n",
              "    <path d=\"M18.56 5.44l.94 2.06.94-2.06 2.06-.94-2.06-.94-.94-2.06-.94 2.06-2.06.94zm-11 1L8.5 8.5l.94-2.06 2.06-.94-2.06-.94L8.5 2.5l-.94 2.06-2.06.94zm10 10l.94 2.06.94-2.06 2.06-.94-2.06-.94-.94-2.06-.94 2.06-2.06.94z\"/><path d=\"M17.41 7.96l-1.37-1.37c-.4-.4-.92-.59-1.43-.59-.52 0-1.04.2-1.43.59L10.3 9.45l-7.72 7.72c-.78.78-.78 2.05 0 2.83L4 21.41c.39.39.9.59 1.41.59.51 0 1.02-.2 1.41-.59l7.78-7.78 2.81-2.81c.8-.78.8-2.07 0-2.86zM5.41 20L4 18.59l7.72-7.72 1.47 1.35L5.41 20z\"/>\n",
              "  </svg>\n",
              "      </button>\n",
              "      \n",
              "  <style>\n",
              "    .colab-df-container {\n",
              "      display:flex;\n",
              "      flex-wrap:wrap;\n",
              "      gap: 12px;\n",
              "    }\n",
              "\n",
              "    .colab-df-convert {\n",
              "      background-color: #E8F0FE;\n",
              "      border: none;\n",
              "      border-radius: 50%;\n",
              "      cursor: pointer;\n",
              "      display: none;\n",
              "      fill: #1967D2;\n",
              "      height: 32px;\n",
              "      padding: 0 0 0 0;\n",
              "      width: 32px;\n",
              "    }\n",
              "\n",
              "    .colab-df-convert:hover {\n",
              "      background-color: #E2EBFA;\n",
              "      box-shadow: 0px 1px 2px rgba(60, 64, 67, 0.3), 0px 1px 3px 1px rgba(60, 64, 67, 0.15);\n",
              "      fill: #174EA6;\n",
              "    }\n",
              "\n",
              "    [theme=dark] .colab-df-convert {\n",
              "      background-color: #3B4455;\n",
              "      fill: #D2E3FC;\n",
              "    }\n",
              "\n",
              "    [theme=dark] .colab-df-convert:hover {\n",
              "      background-color: #434B5C;\n",
              "      box-shadow: 0px 1px 3px 1px rgba(0, 0, 0, 0.15);\n",
              "      filter: drop-shadow(0px 1px 2px rgba(0, 0, 0, 0.3));\n",
              "      fill: #FFFFFF;\n",
              "    }\n",
              "  </style>\n",
              "\n",
              "      <script>\n",
              "        const buttonEl =\n",
              "          document.querySelector('#df-900d1187-bed0-4cfe-838a-edcfdfecc663 button.colab-df-convert');\n",
              "        buttonEl.style.display =\n",
              "          google.colab.kernel.accessAllowed ? 'block' : 'none';\n",
              "\n",
              "        async function convertToInteractive(key) {\n",
              "          const element = document.querySelector('#df-900d1187-bed0-4cfe-838a-edcfdfecc663');\n",
              "          const dataTable =\n",
              "            await google.colab.kernel.invokeFunction('convertToInteractive',\n",
              "                                                     [key], {});\n",
              "          if (!dataTable) return;\n",
              "\n",
              "          const docLinkHtml = 'Like what you see? Visit the ' +\n",
              "            '<a target=\"_blank\" href=https://colab.research.google.com/notebooks/data_table.ipynb>data table notebook</a>'\n",
              "            + ' to learn more about interactive tables.';\n",
              "          element.innerHTML = '';\n",
              "          dataTable['output_type'] = 'display_data';\n",
              "          await google.colab.output.renderOutput(dataTable, element);\n",
              "          const docLink = document.createElement('div');\n",
              "          docLink.innerHTML = docLinkHtml;\n",
              "          element.appendChild(docLink);\n",
              "        }\n",
              "      </script>\n",
              "    </div>\n",
              "  </div>\n",
              "  "
            ],
            "text/plain": [
              "   id  user_id  item_id  context_feature_id  item_feature_id\n",
              "0   0        4    16835                   2              142\n",
              "1   1        4    22590                   3              142\n",
              "2   2        4     1978                   1              142\n",
              "3   3        4    28916                   1              148\n",
              "4   4        4    14427                   2               63"
            ]
          },
          "metadata": {},
          "execution_count": 25
        }
      ],
      "source": [
        "# Load in test data\n",
        "df_test = pd.read_csv('/content/drive/MyDrive/Data_Implict_Ratings/test_kaggle.csv')\n",
        "df_test = df_test.join(feat_df, on='item_id', how='left', rsuffix='dup').drop('item_iddup', axis=1)\n",
        "df_test.head(5)"
      ]
    },
    {
      "cell_type": "code",
      "source": [
        "##test_user_freq=pd.DataFrame(df_test['user_id'].value_counts()/sum(df_test['user_id'].value_counts()))\n",
        "#test_items_freq=pd.DataFrame(df_test['item_id'].value_counts()/sum(df_test['item_id'].value_counts()))"
      ],
      "metadata": {
        "id": "neycymvhdoy-"
      },
      "execution_count": null,
      "outputs": []
    },
    {
      "cell_type": "code",
      "source": [
        "#df_test = df_test.join(test_user_freq, on='user_id', how='left', rsuffix='dup').rename(columns={'user_iddup':'user_freq'})\n",
        "#df_test = df_test.join(test_items_freq, on='item_id', how='left', rsuffix='dup').rename(columns={'item_iddup':'items_freq'})\n",
        "#df_test.tail()"
      ],
      "metadata": {
        "id": "wBlrmSDYd74C"
      },
      "execution_count": null,
      "outputs": []
    },
    {
      "cell_type": "code",
      "source": [
        "df_test.tail()"
      ],
      "metadata": {
        "colab": {
          "base_uri": "https://localhost:8080/",
          "height": 206
        },
        "id": "Tkr75x0Pe3fU",
        "outputId": "22594e20-5ecf-40dd-8d06-4c4918bec09e"
      },
      "execution_count": 26,
      "outputs": [
        {
          "output_type": "execute_result",
          "data": {
            "text/html": [
              "\n",
              "  <div id=\"df-8473d953-a391-4a53-86a7-b54d04c9d714\">\n",
              "    <div class=\"colab-df-container\">\n",
              "      <div>\n",
              "<style scoped>\n",
              "    .dataframe tbody tr th:only-of-type {\n",
              "        vertical-align: middle;\n",
              "    }\n",
              "\n",
              "    .dataframe tbody tr th {\n",
              "        vertical-align: top;\n",
              "    }\n",
              "\n",
              "    .dataframe thead th {\n",
              "        text-align: right;\n",
              "    }\n",
              "</style>\n",
              "<table border=\"1\" class=\"dataframe\">\n",
              "  <thead>\n",
              "    <tr style=\"text-align: right;\">\n",
              "      <th></th>\n",
              "      <th>id</th>\n",
              "      <th>user_id</th>\n",
              "      <th>item_id</th>\n",
              "      <th>context_feature_id</th>\n",
              "      <th>item_feature_id</th>\n",
              "    </tr>\n",
              "  </thead>\n",
              "  <tbody>\n",
              "    <tr>\n",
              "      <th>381380</th>\n",
              "      <td>381380</td>\n",
              "      <td>200151</td>\n",
              "      <td>1702</td>\n",
              "      <td>1</td>\n",
              "      <td>139</td>\n",
              "    </tr>\n",
              "    <tr>\n",
              "      <th>381381</th>\n",
              "      <td>381381</td>\n",
              "      <td>200151</td>\n",
              "      <td>21632</td>\n",
              "      <td>1</td>\n",
              "      <td>130</td>\n",
              "    </tr>\n",
              "    <tr>\n",
              "      <th>381382</th>\n",
              "      <td>381382</td>\n",
              "      <td>200151</td>\n",
              "      <td>30477</td>\n",
              "      <td>1</td>\n",
              "      <td>130</td>\n",
              "    </tr>\n",
              "    <tr>\n",
              "      <th>381383</th>\n",
              "      <td>381383</td>\n",
              "      <td>200151</td>\n",
              "      <td>30477</td>\n",
              "      <td>1</td>\n",
              "      <td>130</td>\n",
              "    </tr>\n",
              "    <tr>\n",
              "      <th>381384</th>\n",
              "      <td>381384</td>\n",
              "      <td>200151</td>\n",
              "      <td>17715</td>\n",
              "      <td>1</td>\n",
              "      <td>138</td>\n",
              "    </tr>\n",
              "  </tbody>\n",
              "</table>\n",
              "</div>\n",
              "      <button class=\"colab-df-convert\" onclick=\"convertToInteractive('df-8473d953-a391-4a53-86a7-b54d04c9d714')\"\n",
              "              title=\"Convert this dataframe to an interactive table.\"\n",
              "              style=\"display:none;\">\n",
              "        \n",
              "  <svg xmlns=\"http://www.w3.org/2000/svg\" height=\"24px\"viewBox=\"0 0 24 24\"\n",
              "       width=\"24px\">\n",
              "    <path d=\"M0 0h24v24H0V0z\" fill=\"none\"/>\n",
              "    <path d=\"M18.56 5.44l.94 2.06.94-2.06 2.06-.94-2.06-.94-.94-2.06-.94 2.06-2.06.94zm-11 1L8.5 8.5l.94-2.06 2.06-.94-2.06-.94L8.5 2.5l-.94 2.06-2.06.94zm10 10l.94 2.06.94-2.06 2.06-.94-2.06-.94-.94-2.06-.94 2.06-2.06.94z\"/><path d=\"M17.41 7.96l-1.37-1.37c-.4-.4-.92-.59-1.43-.59-.52 0-1.04.2-1.43.59L10.3 9.45l-7.72 7.72c-.78.78-.78 2.05 0 2.83L4 21.41c.39.39.9.59 1.41.59.51 0 1.02-.2 1.41-.59l7.78-7.78 2.81-2.81c.8-.78.8-2.07 0-2.86zM5.41 20L4 18.59l7.72-7.72 1.47 1.35L5.41 20z\"/>\n",
              "  </svg>\n",
              "      </button>\n",
              "      \n",
              "  <style>\n",
              "    .colab-df-container {\n",
              "      display:flex;\n",
              "      flex-wrap:wrap;\n",
              "      gap: 12px;\n",
              "    }\n",
              "\n",
              "    .colab-df-convert {\n",
              "      background-color: #E8F0FE;\n",
              "      border: none;\n",
              "      border-radius: 50%;\n",
              "      cursor: pointer;\n",
              "      display: none;\n",
              "      fill: #1967D2;\n",
              "      height: 32px;\n",
              "      padding: 0 0 0 0;\n",
              "      width: 32px;\n",
              "    }\n",
              "\n",
              "    .colab-df-convert:hover {\n",
              "      background-color: #E2EBFA;\n",
              "      box-shadow: 0px 1px 2px rgba(60, 64, 67, 0.3), 0px 1px 3px 1px rgba(60, 64, 67, 0.15);\n",
              "      fill: #174EA6;\n",
              "    }\n",
              "\n",
              "    [theme=dark] .colab-df-convert {\n",
              "      background-color: #3B4455;\n",
              "      fill: #D2E3FC;\n",
              "    }\n",
              "\n",
              "    [theme=dark] .colab-df-convert:hover {\n",
              "      background-color: #434B5C;\n",
              "      box-shadow: 0px 1px 3px 1px rgba(0, 0, 0, 0.15);\n",
              "      filter: drop-shadow(0px 1px 2px rgba(0, 0, 0, 0.3));\n",
              "      fill: #FFFFFF;\n",
              "    }\n",
              "  </style>\n",
              "\n",
              "      <script>\n",
              "        const buttonEl =\n",
              "          document.querySelector('#df-8473d953-a391-4a53-86a7-b54d04c9d714 button.colab-df-convert');\n",
              "        buttonEl.style.display =\n",
              "          google.colab.kernel.accessAllowed ? 'block' : 'none';\n",
              "\n",
              "        async function convertToInteractive(key) {\n",
              "          const element = document.querySelector('#df-8473d953-a391-4a53-86a7-b54d04c9d714');\n",
              "          const dataTable =\n",
              "            await google.colab.kernel.invokeFunction('convertToInteractive',\n",
              "                                                     [key], {});\n",
              "          if (!dataTable) return;\n",
              "\n",
              "          const docLinkHtml = 'Like what you see? Visit the ' +\n",
              "            '<a target=\"_blank\" href=https://colab.research.google.com/notebooks/data_table.ipynb>data table notebook</a>'\n",
              "            + ' to learn more about interactive tables.';\n",
              "          element.innerHTML = '';\n",
              "          dataTable['output_type'] = 'display_data';\n",
              "          await google.colab.output.renderOutput(dataTable, element);\n",
              "          const docLink = document.createElement('div');\n",
              "          docLink.innerHTML = docLinkHtml;\n",
              "          element.appendChild(docLink);\n",
              "        }\n",
              "      </script>\n",
              "    </div>\n",
              "  </div>\n",
              "  "
            ],
            "text/plain": [
              "            id  user_id  item_id  context_feature_id  item_feature_id\n",
              "381380  381380   200151     1702                   1              139\n",
              "381381  381381   200151    21632                   1              130\n",
              "381382  381382   200151    30477                   1              130\n",
              "381383  381383   200151    30477                   1              130\n",
              "381384  381384   200151    17715                   1              138"
            ]
          },
          "metadata": {},
          "execution_count": 26
        }
      ]
    },
    {
      "cell_type": "code",
      "source": [
        "train_df = train_df.sample(frac=1).reset_index(drop=True)"
      ],
      "metadata": {
        "id": "ejDNIQJ5U6_J"
      },
      "execution_count": 27,
      "outputs": []
    },
    {
      "cell_type": "code",
      "execution_count": 28,
      "metadata": {
        "id": "e7QFkVP5If_e"
      },
      "outputs": [],
      "source": [
        "# Sample a third of the data\n",
        "unknowns = train_df.sample(frac = 0.1,random_state=3,replace=False)#.drop('level_0',axis=1)\n",
        "# Change the user ids to unknown value\n",
        "unknowns['user_id'] = 200153\n",
        "\n",
        "#train_df = pd.concat([train_df, unknowns]).reset_index()\n",
        "train_df=train_df.append(unknowns).reset_index()\n",
        "\n",
        "unknowns_items = train_df.sample(frac = 0.01,random_state=3,replace=False)#.drop('level_0',axis=1)\n",
        "unknowns_items['item_id'] = 39901\n",
        "\n",
        "train_df=train_df.append(unknowns_items).reset_index()\n",
        "train_df.drop('level_0',axis=1,inplace=True)\n",
        "\n",
        "train = train_df.sample(frac = 0.8,random_state=3,replace=False)\n",
        "val = train_df.drop(train.index)\n",
        "\n",
        "# Change values in val and test to unknown if missing\n",
        "df_test.loc[~df_test['user_id'].isin(train_df['user_id'].unique()), 'user_id'] = 200153\n",
        "df_test.loc[~df_test['item_id'].isin(train_df['item_id'].unique()), 'item_id'] = 39901\n",
        "#val.loc[~val['user_id'].isin(train['user_id'].unique()), 'user_id'] = 200153\n",
        "\n",
        "# Stack generated unknowns onto the training\n"
      ]
    },
    {
      "cell_type": "code",
      "source": [
        "#train.to_csv('/content/drive/MyDrive/Data_Implict_Ratings/train.csv', index=False)\n",
        "#val.to_csv('/content/drive/MyDrive/Data_Implict_Ratings/val.csv', index=False)"
      ],
      "metadata": {
        "id": "a5sK9-RtQsZi"
      },
      "execution_count": null,
      "outputs": []
    },
    {
      "cell_type": "code",
      "source": [
        "df_train_full.shape"
      ],
      "metadata": {
        "colab": {
          "base_uri": "https://localhost:8080/"
        },
        "id": "KgXruEvRkUvR",
        "outputId": "5519663a-ee6e-494f-a5bc-89791421cf1b"
      },
      "execution_count": 29,
      "outputs": [
        {
          "output_type": "execute_result",
          "data": {
            "text/plain": [
              "(1722520, 5)"
            ]
          },
          "metadata": {},
          "execution_count": 29
        }
      ]
    },
    {
      "cell_type": "code",
      "source": [
        "len(train)+len(val),len(train_df),(len(df_train_full)+0.1001*len(df_train_full))"
      ],
      "metadata": {
        "colab": {
          "base_uri": "https://localhost:8080/"
        },
        "id": "YehNrVCMtNen",
        "outputId": "76f2898d-1901-42a2-f555-99777b1dccf0"
      },
      "execution_count": 30,
      "outputs": [
        {
          "output_type": "execute_result",
          "data": {
            "text/plain": [
              "(1841148, 1841148, 1894944.2519999999)"
            ]
          },
          "metadata": {},
          "execution_count": 30
        }
      ]
    },
    {
      "cell_type": "code",
      "source": [
        "#sum(val['flag'])/len(val['flag']),sum(train['flag'])/len(train['flag'])"
      ],
      "metadata": {
        "id": "og5265NxVMRY"
      },
      "execution_count": 31,
      "outputs": []
    },
    {
      "cell_type": "code",
      "source": [
        "len(train)+len(val),len(train_df),len(unknowns)"
      ],
      "metadata": {
        "colab": {
          "base_uri": "https://localhost:8080/"
        },
        "id": "c8oUPFEVoNKh",
        "outputId": "93c0c5bd-eddd-4e59-c6c2-2375eea24d71"
      },
      "execution_count": 32,
      "outputs": [
        {
          "output_type": "execute_result",
          "data": {
            "text/plain": [
              "(1841148, 1841148, 165720)"
            ]
          },
          "metadata": {},
          "execution_count": 32
        }
      ]
    },
    {
      "cell_type": "code",
      "source": [
        "train['user_id'].unique()"
      ],
      "metadata": {
        "colab": {
          "base_uri": "https://localhost:8080/"
        },
        "id": "WrcT1yeTN-jx",
        "outputId": "4b83eced-883d-4c0f-84c4-54661e6d17c5"
      },
      "execution_count": 33,
      "outputs": [
        {
          "output_type": "execute_result",
          "data": {
            "text/plain": [
              "array([  5706,  26281, 140223, ...,  94709, 176403,  43683])"
            ]
          },
          "metadata": {},
          "execution_count": 33
        }
      ]
    },
    {
      "cell_type": "code",
      "source": [
        "len(train[train['user_id']==200153]['user_id'].unique())"
      ],
      "metadata": {
        "colab": {
          "base_uri": "https://localhost:8080/"
        },
        "id": "YRcSORbBVkaZ",
        "outputId": "1781ffaf-e8ad-4714-8860-716c56c8c22f"
      },
      "execution_count": 34,
      "outputs": [
        {
          "output_type": "execute_result",
          "data": {
            "text/plain": [
              "1"
            ]
          },
          "metadata": {},
          "execution_count": 34
        }
      ]
    },
    {
      "cell_type": "code",
      "source": [
        "len(train[train['user_id']==200153]),len(train[train['item_id']==39901])"
      ],
      "metadata": {
        "colab": {
          "base_uri": "https://localhost:8080/"
        },
        "id": "KYeY-oeHVakJ",
        "outputId": "61e8fdfe-563f-4b7a-ba00-257f21a8cbf0"
      },
      "execution_count": 35,
      "outputs": [
        {
          "output_type": "execute_result",
          "data": {
            "text/plain": [
              "(133935, 14648)"
            ]
          },
          "metadata": {},
          "execution_count": 35
        }
      ]
    },
    {
      "cell_type": "code",
      "source": [
        "len(train[train['user_id']==200153])/len(train),len(val[val['user_id']==200153])/len(val),len(df_test[df_test['user_id']==200153])/len(df_test)"
      ],
      "metadata": {
        "colab": {
          "base_uri": "https://localhost:8080/"
        },
        "id": "QWoHRx52pC5q",
        "outputId": "83348104-7434-4495-9288-8d8de0c47f80"
      },
      "execution_count": 36,
      "outputs": [
        {
          "output_type": "execute_result",
          "data": {
            "text/plain": [
              "(0.09093174229658406, 0.09081009151888765, 0.82192797304561)"
            ]
          },
          "metadata": {},
          "execution_count": 36
        }
      ]
    },
    {
      "cell_type": "code",
      "source": [
        "len(train[train['item_id']==39901])/len(train),len(val[val['item_id']==39901])/len(val),len(df_test[df_test['item_id']==39901])/len(df_test)"
      ],
      "metadata": {
        "colab": {
          "base_uri": "https://localhost:8080/"
        },
        "id": "wle30OZPuo4n",
        "outputId": "a2661b44-76e6-4357-e1c1-053136372a51"
      },
      "execution_count": 37,
      "outputs": [
        {
          "output_type": "execute_result",
          "data": {
            "text/plain": [
              "(0.009944884915521434, 0.009724900198245661, 0.0719010973163601)"
            ]
          },
          "metadata": {},
          "execution_count": 37
        }
      ]
    },
    {
      "cell_type": "code",
      "execution_count": 40,
      "metadata": {
        "id": "9GhrFXptTdy_"
      },
      "outputs": [],
      "source": [
        "num_users = max(train_df['user_id'])+1\n",
        "num_items = max(train_df['item_id'])+1\n",
        "#num_context = max(train_df['context_feature_id'])+1\n",
        "num_feats = int(max(feat_df['item_feature_id']))+1"
      ]
    },
    {
      "cell_type": "code",
      "source": [
        "num_users,num_items,num_feats"
      ],
      "metadata": {
        "colab": {
          "base_uri": "https://localhost:8080/"
        },
        "id": "c9Ujx-QSd2jV",
        "outputId": "da345d95-76a9-4a00-e871-fa0db292513a"
      },
      "execution_count": 41,
      "outputs": [
        {
          "output_type": "execute_result",
          "data": {
            "text/plain": [
              "(200154, 39902, 195)"
            ]
          },
          "metadata": {},
          "execution_count": 41
        }
      ]
    },
    {
      "cell_type": "code",
      "source": [
        "# MF with bias model\n",
        "class MF_bias(nn.Module):\n",
        "    def __init__(self, num_users, num_items, emb_size=100):\n",
        "        super(MF_bias, self).__init__()\n",
        "        self.user_emb = nn.Embedding(num_users, emb_size) # .to(device)\n",
        "        self.user_bias = nn.Embedding(num_users, 1) # .to(device)\n",
        "        self.item_emb = nn.Embedding(num_items, emb_size) # .to(device)\n",
        "        self.item_bias = nn.Embedding(num_items, 1) # .to(device)\n",
        "        # init \n",
        "        self.user_emb.weight.data.uniform_(0,0.05)\n",
        "        self.item_emb.weight.data.uniform_(0,0.05)\n",
        "        self.user_bias.weight.data.uniform_(-0.01,0.01)\n",
        "        self.item_bias.weight.data.uniform_(-0.01,0.01)\n",
        "        \n",
        "    def forward(self, u, v):\n",
        "        # u = u.to(device)\n",
        "        # v = v.to(device)\n",
        "        U = self.user_emb(u)\n",
        "        V = self.item_emb(v)\n",
        "        b_u = self.user_bias(u).squeeze()\n",
        "        b_v = self.item_bias(v).squeeze()\n",
        "        return (U*V).sum(1) +  b_u  + b_v\n",
        "\n",
        "def valid_metrics_bias(model, valid_dl):\n",
        "    \"\"\"Computes validation loss and accuracy\"\"\"\n",
        "    ### BEGIN SOLUTION\n",
        "    users, items, feats,contexts,user_freq,items_freq, y = next(iter(valid_dl))\n",
        "    y = y.unsqueeze(1)\n",
        "    y_hat = model(users, items)\n",
        "    valid_loss = F.binary_cross_entropy_with_logits(y_hat, y.float())\n",
        "\n",
        "    y_hat_new = torch.where(y_hat>0, 1, 0)\n",
        "    valid_acc_int = torch.sum(y_hat_new == y)\n",
        "    valid_acc = (valid_acc_int*1.00)/len(y)\n",
        "    ### END SOLUTION\n",
        "    return float(valid_loss.cpu().detach().numpy()), valid_acc\n",
        "\n",
        "# here we are not using data loaders because our data fits well in memory\n",
        "def train_epocs_bias(model, train_dl, valid_dl, epochs=10, lr=0.01, wd=0.0):\n",
        "    optimizer = torch.optim.Adam(model.parameters(), lr=lr, weight_decay=wd)\n",
        "    for i in range(epochs):\n",
        "        model.train()\n",
        "        users, items, feats,contexts,user_freq,items_freq, y = next(iter(train_dl))\n",
        "        y = y.unsqueeze(1)\n",
        "        y_hat = model(users, items)\n",
        "        loss = F.binary_cross_entropy_with_logits(y_hat, y.float())\n",
        "        optimizer.zero_grad()\n",
        "        loss.backward()\n",
        "        optimizer.step()\n",
        "\n",
        "        model.eval()\n",
        "        train_loss = loss.item()\n",
        "        valid_loss, valid_acc = valid_metrics_bias(model, valid_dl)\n",
        "        print(\"train loss %.3f valid loss %.3f valid acc %.3f\" % (train_loss, valid_loss, valid_acc))"
      ],
      "metadata": {
        "id": "423Bkv0sqBGn"
      },
      "execution_count": null,
      "outputs": []
    },
    {
      "cell_type": "markdown",
      "metadata": {
        "id": "TqL5mGe3iWRJ"
      },
      "source": [
        "## NN Full Model"
      ]
    },
    {
      "cell_type": "code",
      "execution_count": 86,
      "metadata": {
        "id": "EIG1QYIK_rhR"
      },
      "outputs": [],
      "source": [
        "class MF_feat(nn.Module):\n",
        "    def __init__(self,num_users,num_items,num_feats, hid_layer=50, emb_size=100, p=0.01):  #user_embeds,item_embeds\n",
        "        super(MF_feat, self).__init__()\n",
        "        # Create embeddings\n",
        "        self.user_emb = nn.Embedding(num_users, emb_size)\n",
        "        self.item_emb = nn.Embedding(num_items, emb_size)\n",
        "        self.feats_emb = nn.Embedding(num_feats, emb_size)\n",
        "       # self.contexts_emb = nn.Embedding(num_contexts, emb_size)\n",
        "        # Initlializing weights\n",
        "       # self.user_emb.weight.data=user_embeds\n",
        "        #self.item_emb.weight.data=item_embeds\n",
        "        self.user_emb.weight.data.uniform_(0,0.05)\n",
        "        self.item_emb.weight.data.uniform_(0,0.05)\n",
        "        self.feats_emb.weight.data.uniform_(0,0.05)\n",
        "        #self.contexts_emb.weight.data.uniform_(0,0.05)\n",
        "        # Initialize layers\n",
        "        self.linear1 = nn.Linear(3*emb_size, hid_layer,bias =True)\n",
        "        self.linear2 = nn.Linear(hid_layer, int(hid_layer/2),bias =True)\n",
        "        self.linear3 = nn.Linear(int(hid_layer/2)+emb_size, 1,bias =True) #\n",
        "        self.dropout = nn.Dropout(p)\n",
        "        \n",
        "    def forward(self, u, i, f):\n",
        "        u = self.user_emb(u)\n",
        "        i = self.item_emb(i)\n",
        "        f = self.feats_emb(f)\n",
        "        #c = self.contexts_emb(c)\n",
        "        gmf = u * i\n",
        "        x = torch.cat((u,i,f),1)\n",
        "        x = self.linear1(x)\n",
        "        x = self.dropout(x)\n",
        "        x = F.relu(x)\n",
        "        #x = self.linear2(x)\n",
        "        #x = self.dropout(x)\n",
        "        #x = F.relu(x)\n",
        "        #ufq=torch.unsqueeze(ufq, 1)\n",
        "        #ifq=torch.unsqueeze(ifq, 1)\n",
        "       # x= torch.cat((x,f,c),1)\n",
        "        x = self.linear2(x)\n",
        "        x = self.dropout(x)\n",
        "        x = F.relu(x)\n",
        "        z= torch.cat((gmf,x),1)\n",
        "        y = self.linear3(z)\n",
        "        return y\n",
        "\n",
        "\n",
        "class UserDataset(Dataset):\n",
        "    def __init__(self, df):\n",
        "        u = df['user_id'].values\n",
        "        i = df['item_id'].values\n",
        "        f = df['item_feature_id'].values\n",
        "        #c = df['context_feature_id'].values\n",
        "        y = df['flag'].values\n",
        "\n",
        "        self.u = torch.LongTensor(u)\n",
        "        self.i = torch.LongTensor(i)\n",
        "        self.f = torch.LongTensor(f)\n",
        "        #self.c = torch.LongTensor(c)\n",
        "        self.y = torch.LongTensor(y)\n",
        "\n",
        "    def __len__(self):\n",
        "        return len(self.y)\n",
        "\n",
        "    def __getitem__(self, index):\n",
        "        return self.u[index], self.i[index], self.f[index],self.y[index] #, self.c[index]\n",
        "\n",
        "\n",
        "def train_epocs(model2,train_dl, valid_dl, epochs=10, lr=0.01, wd=0.0):\n",
        "    optimizer = torch.optim.Adam(model2.parameters(), lr=lr, weight_decay=wd)\n",
        "    #val=valid_dl.sample(frac = 1,replace=False)\n",
        "    #val=NegativeSampleUniform(val,items_total)\n",
        "    #users, items, feats,contexts, y =convert_data(val)\n",
        "    for i in range(epochs):\n",
        "        model2.train()\n",
        "        #train_new=train_dl.sample(frac = 0.01,replace=False)\n",
        "        #print(len(train))\n",
        "        #print(train_new)\n",
        "        #train=NegativeSampleUniform(train_new,items_total)\n",
        "        #print(UserDataset(train))\n",
        "        users, items, feats, y = next(iter(train_dl))#. #=convert_data(train)\n",
        "        y = y.unsqueeze(1)\n",
        "        y_hat = model2(users, items, feats)\n",
        "        loss = F.binary_cross_entropy_with_logits(y_hat, y.float())\n",
        "        optimizer.zero_grad()\n",
        "        loss.backward()\n",
        "        optimizer.step()\n",
        "\n",
        "        model2.eval()\n",
        "        train_loss = loss.item()\n",
        "        valid_loss, valid_acc = valid_metrics(model2,valid_dl)\n",
        "        print(\"train loss %.3f valid loss %.3f valid acc %.3f\" % (train_loss, valid_loss, valid_acc))\n",
        "\n",
        "def valid_metrics(model2,valid_dl):\n",
        "    \"\"\"Computes validation loss and accuracy\"\"\"\n",
        "    ### BEGIN SOLUTION\n",
        "     #user_freq,items_freq\n",
        "    users, items, feats, y = next(iter(valid_dl))\n",
        "    y = y.unsqueeze(1)\n",
        "    y_hat = model2(users, items, feats)\n",
        "    valid_loss = F.binary_cross_entropy_with_logits(y_hat, y.float())\n",
        "\n",
        "    y_hat_new = torch.where(y_hat>0, 1, 0)\n",
        "    valid_acc_int = torch.sum(y_hat_new == y)\n",
        "    valid_acc = (valid_acc_int*1.00)/len(y)\n",
        "    ### END SOLUTION\n",
        "    return float(valid_loss.cpu().detach().numpy()), valid_acc"
      ]
    },
    {
      "cell_type": "code",
      "source": [
        "#train=NegativeSample(train)\n",
        "#val=NegativeSample(val)"
      ],
      "metadata": {
        "id": "EBzCQaFaFSVK"
      },
      "execution_count": 87,
      "outputs": []
    },
    {
      "cell_type": "code",
      "execution_count": 103,
      "metadata": {
        "id": "xoRdPsNk33yU"
      },
      "outputs": [],
      "source": [
        "# # Create Datasets\n",
        "train_dl = DataLoader(UserDataset(train), batch_size=int(len(train)/10), shuffle=True)\n",
        "valid_dl = DataLoader(UserDataset(val), batch_size=len(val), shuffle=False)#. #int(len(val))"
      ]
    },
    {
      "cell_type": "code",
      "source": [
        "#users, items, feats,contexts= next(iter(train_dl))"
      ],
      "metadata": {
        "id": "Qn9KYMK5z7JI"
      },
      "execution_count": 104,
      "outputs": []
    },
    {
      "cell_type": "code",
      "source": [
        "model2 = MF_feat(num_users,num_items,num_feats,hid_layer=50,emb_size=100,p=0.3) # .to(device)"
      ],
      "metadata": {
        "id": "AZ05VWZls7NV"
      },
      "execution_count": 105,
      "outputs": []
    },
    {
      "cell_type": "code",
      "source": [
        "#num_users,num_items,num_feats,num_context"
      ],
      "metadata": {
        "id": "KcvovAe2Ecw2"
      },
      "execution_count": 106,
      "outputs": []
    },
    {
      "cell_type": "code",
      "execution_count": 107,
      "metadata": {
        "colab": {
          "base_uri": "https://localhost:8080/"
        },
        "id": "skF078AMA2Bp",
        "outputId": "24a7311b-6f66-460c-f685-20efccb06fcb"
      },
      "outputs": [
        {
          "output_type": "stream",
          "name": "stdout",
          "text": [
            "train loss 0.693 valid loss 0.643 valid acc 0.522\n",
            "train loss 0.668 valid loss 0.326 valid acc 1.000\n",
            "train loss 0.334 valid loss 0.227 valid acc 1.000\n",
            "train loss 0.225 valid loss 0.009 valid acc 1.000\n",
            "train loss 0.031 valid loss 0.001 valid acc 1.000\n",
            "train loss 0.005 valid loss 0.002 valid acc 1.000\n",
            "train loss 0.004 valid loss 0.004 valid acc 1.000\n",
            "train loss 0.010 valid loss 0.006 valid acc 1.000\n",
            "train loss 0.010 valid loss 0.008 valid acc 1.000\n",
            "train loss 0.010 valid loss 0.012 valid acc 1.000\n"
          ]
        }
      ],
      "source": [
        "train_epocs(model2,train_dl, valid_dl, epochs=10, lr=0.1, wd=1e-5)"
      ]
    },
    {
      "cell_type": "code",
      "source": [
        "train_epocs(model2, train_dl, valid_dl, epochs=5, lr=0.1, wd=1e-5)"
      ],
      "metadata": {
        "id": "svzY-4WhvYbj"
      },
      "execution_count": null,
      "outputs": []
    },
    {
      "cell_type": "code",
      "source": [
        "train_epocs(model2, train_dl, valid_dl, epochs=5, lr=0.01, wd=1e-5)"
      ],
      "metadata": {
        "id": "7jAXVC37voGy"
      },
      "execution_count": null,
      "outputs": []
    },
    {
      "cell_type": "code",
      "source": [
        "train_epocs(model2, train_dl, valid_dl, epochs=5, lr=0.01, wd=1e-5)"
      ],
      "metadata": {
        "id": "5_6oYnEShc5I"
      },
      "execution_count": null,
      "outputs": []
    },
    {
      "cell_type": "code",
      "source": [
        "train_epocs(model2, train_dl, valid_dl, epochs=5, lr=0.01, wd=1e-5)"
      ],
      "metadata": {
        "colab": {
          "base_uri": "https://localhost:8080/"
        },
        "id": "f3JND5sJazxB",
        "outputId": "e4011aeb-7ffc-41c8-88c8-3e1fd492f285"
      },
      "execution_count": null,
      "outputs": [
        {
          "output_type": "stream",
          "name": "stdout",
          "text": [
            "train loss 0.437 valid loss 0.403 valid acc 0.862\n",
            "train loss 0.415 valid loss 0.391 valid acc 0.866\n",
            "train loss 0.405 valid loss 0.381 valid acc 0.868\n",
            "train loss 0.398 valid loss 0.371 valid acc 0.869\n",
            "train loss 0.392 valid loss 0.364 valid acc 0.870\n"
          ]
        }
      ]
    },
    {
      "cell_type": "code",
      "source": [
        "train_epocs(model2, train_dl, valid_dl, epochs=5, lr=0.001)"
      ],
      "metadata": {
        "colab": {
          "base_uri": "https://localhost:8080/"
        },
        "id": "zUtkyVaE04y2",
        "outputId": "62154990-fa71-405e-950e-b63a827fe74d"
      },
      "execution_count": null,
      "outputs": [
        {
          "output_type": "stream",
          "name": "stdout",
          "text": [
            "train loss 0.329 valid loss 0.317 valid acc 0.875\n",
            "train loss 0.327 valid loss 0.317 valid acc 0.875\n",
            "train loss 0.327 valid loss 0.317 valid acc 0.875\n",
            "train loss 0.327 valid loss 0.317 valid acc 0.875\n",
            "train loss 0.326 valid loss 0.317 valid acc 0.875\n"
          ]
        }
      ]
    },
    {
      "cell_type": "code",
      "source": [
        "train_epocs(model2, train_dl, valid_dl, epochs=5, lr=0.0001)"
      ],
      "metadata": {
        "colab": {
          "base_uri": "https://localhost:8080/"
        },
        "id": "zqFRmPJv3qO2",
        "outputId": "132bf7fb-1512-4c4c-ee3c-bf02870140b4"
      },
      "execution_count": null,
      "outputs": [
        {
          "output_type": "stream",
          "name": "stdout",
          "text": [
            "train loss 0.323 valid loss 0.317 valid acc 0.875\n",
            "train loss 0.326 valid loss 0.317 valid acc 0.875\n",
            "train loss 0.324 valid loss 0.317 valid acc 0.875\n",
            "train loss 0.325 valid loss 0.317 valid acc 0.875\n",
            "train loss 0.324 valid loss 0.317 valid acc 0.875\n"
          ]
        }
      ]
    },
    {
      "cell_type": "markdown",
      "metadata": {
        "id": "HkZMRAUVYMol"
      },
      "source": [
        "## Make Predictions"
      ]
    },
    {
      "cell_type": "code",
      "execution_count": 110,
      "metadata": {
        "id": "d61Aysg1ImUL"
      },
      "outputs": [],
      "source": [
        "# Create a data loader\n",
        "users = torch.LongTensor(df_test['user_id'].values)\n",
        "items = torch.LongTensor(df_test['item_id'].values)\n",
        "context = torch.LongTensor(df_test['context_feature_id'].values)\n",
        "feats = torch.LongTensor(df_test['item_feature_id'].values)\n",
        "#user_freqs = torch.LongTensor(df_test['user_freq'].values)\n",
        "#item_freqs = torch.LongTensor(df_test['items_freq'].values)"
      ]
    },
    {
      "cell_type": "code",
      "execution_count": 111,
      "metadata": {
        "colab": {
          "base_uri": "https://localhost:8080/",
          "height": 300
        },
        "id": "JqCmeYVtJoIJ",
        "outputId": "614751a9-dd27-4b2a-bbe3-0e15e413c9d0"
      },
      "outputs": [
        {
          "output_type": "execute_result",
          "data": {
            "text/html": [
              "\n",
              "  <div id=\"df-e2190246-a5b7-4514-b9d9-a0d0393a72ca\">\n",
              "    <div class=\"colab-df-container\">\n",
              "      <div>\n",
              "<style scoped>\n",
              "    .dataframe tbody tr th:only-of-type {\n",
              "        vertical-align: middle;\n",
              "    }\n",
              "\n",
              "    .dataframe tbody tr th {\n",
              "        vertical-align: top;\n",
              "    }\n",
              "\n",
              "    .dataframe thead th {\n",
              "        text-align: right;\n",
              "    }\n",
              "</style>\n",
              "<table border=\"1\" class=\"dataframe\">\n",
              "  <thead>\n",
              "    <tr style=\"text-align: right;\">\n",
              "      <th></th>\n",
              "      <th>id</th>\n",
              "      <th>user_id</th>\n",
              "      <th>rating</th>\n",
              "    </tr>\n",
              "  </thead>\n",
              "  <tbody>\n",
              "    <tr>\n",
              "      <th>count</th>\n",
              "      <td>381385.000000</td>\n",
              "      <td>381385.000000</td>\n",
              "      <td>381385.000000</td>\n",
              "    </tr>\n",
              "    <tr>\n",
              "      <th>mean</th>\n",
              "      <td>190692.000000</td>\n",
              "      <td>182318.747077</td>\n",
              "      <td>0.997100</td>\n",
              "    </tr>\n",
              "    <tr>\n",
              "      <th>std</th>\n",
              "      <td>110096.510545</td>\n",
              "      <td>45407.208780</td>\n",
              "      <td>0.053629</td>\n",
              "    </tr>\n",
              "    <tr>\n",
              "      <th>min</th>\n",
              "      <td>0.000000</td>\n",
              "      <td>10.000000</td>\n",
              "      <td>0.000000</td>\n",
              "    </tr>\n",
              "    <tr>\n",
              "      <th>25%</th>\n",
              "      <td>95346.000000</td>\n",
              "      <td>200153.000000</td>\n",
              "      <td>1.000000</td>\n",
              "    </tr>\n",
              "    <tr>\n",
              "      <th>50%</th>\n",
              "      <td>190692.000000</td>\n",
              "      <td>200153.000000</td>\n",
              "      <td>1.000000</td>\n",
              "    </tr>\n",
              "    <tr>\n",
              "      <th>75%</th>\n",
              "      <td>286038.000000</td>\n",
              "      <td>200153.000000</td>\n",
              "      <td>1.000000</td>\n",
              "    </tr>\n",
              "    <tr>\n",
              "      <th>max</th>\n",
              "      <td>381384.000000</td>\n",
              "      <td>200153.000000</td>\n",
              "      <td>1.000000</td>\n",
              "    </tr>\n",
              "  </tbody>\n",
              "</table>\n",
              "</div>\n",
              "      <button class=\"colab-df-convert\" onclick=\"convertToInteractive('df-e2190246-a5b7-4514-b9d9-a0d0393a72ca')\"\n",
              "              title=\"Convert this dataframe to an interactive table.\"\n",
              "              style=\"display:none;\">\n",
              "        \n",
              "  <svg xmlns=\"http://www.w3.org/2000/svg\" height=\"24px\"viewBox=\"0 0 24 24\"\n",
              "       width=\"24px\">\n",
              "    <path d=\"M0 0h24v24H0V0z\" fill=\"none\"/>\n",
              "    <path d=\"M18.56 5.44l.94 2.06.94-2.06 2.06-.94-2.06-.94-.94-2.06-.94 2.06-2.06.94zm-11 1L8.5 8.5l.94-2.06 2.06-.94-2.06-.94L8.5 2.5l-.94 2.06-2.06.94zm10 10l.94 2.06.94-2.06 2.06-.94-2.06-.94-.94-2.06-.94 2.06-2.06.94z\"/><path d=\"M17.41 7.96l-1.37-1.37c-.4-.4-.92-.59-1.43-.59-.52 0-1.04.2-1.43.59L10.3 9.45l-7.72 7.72c-.78.78-.78 2.05 0 2.83L4 21.41c.39.39.9.59 1.41.59.51 0 1.02-.2 1.41-.59l7.78-7.78 2.81-2.81c.8-.78.8-2.07 0-2.86zM5.41 20L4 18.59l7.72-7.72 1.47 1.35L5.41 20z\"/>\n",
              "  </svg>\n",
              "      </button>\n",
              "      \n",
              "  <style>\n",
              "    .colab-df-container {\n",
              "      display:flex;\n",
              "      flex-wrap:wrap;\n",
              "      gap: 12px;\n",
              "    }\n",
              "\n",
              "    .colab-df-convert {\n",
              "      background-color: #E8F0FE;\n",
              "      border: none;\n",
              "      border-radius: 50%;\n",
              "      cursor: pointer;\n",
              "      display: none;\n",
              "      fill: #1967D2;\n",
              "      height: 32px;\n",
              "      padding: 0 0 0 0;\n",
              "      width: 32px;\n",
              "    }\n",
              "\n",
              "    .colab-df-convert:hover {\n",
              "      background-color: #E2EBFA;\n",
              "      box-shadow: 0px 1px 2px rgba(60, 64, 67, 0.3), 0px 1px 3px 1px rgba(60, 64, 67, 0.15);\n",
              "      fill: #174EA6;\n",
              "    }\n",
              "\n",
              "    [theme=dark] .colab-df-convert {\n",
              "      background-color: #3B4455;\n",
              "      fill: #D2E3FC;\n",
              "    }\n",
              "\n",
              "    [theme=dark] .colab-df-convert:hover {\n",
              "      background-color: #434B5C;\n",
              "      box-shadow: 0px 1px 3px 1px rgba(0, 0, 0, 0.15);\n",
              "      filter: drop-shadow(0px 1px 2px rgba(0, 0, 0, 0.3));\n",
              "      fill: #FFFFFF;\n",
              "    }\n",
              "  </style>\n",
              "\n",
              "      <script>\n",
              "        const buttonEl =\n",
              "          document.querySelector('#df-e2190246-a5b7-4514-b9d9-a0d0393a72ca button.colab-df-convert');\n",
              "        buttonEl.style.display =\n",
              "          google.colab.kernel.accessAllowed ? 'block' : 'none';\n",
              "\n",
              "        async function convertToInteractive(key) {\n",
              "          const element = document.querySelector('#df-e2190246-a5b7-4514-b9d9-a0d0393a72ca');\n",
              "          const dataTable =\n",
              "            await google.colab.kernel.invokeFunction('convertToInteractive',\n",
              "                                                     [key], {});\n",
              "          if (!dataTable) return;\n",
              "\n",
              "          const docLinkHtml = 'Like what you see? Visit the ' +\n",
              "            '<a target=\"_blank\" href=https://colab.research.google.com/notebooks/data_table.ipynb>data table notebook</a>'\n",
              "            + ' to learn more about interactive tables.';\n",
              "          element.innerHTML = '';\n",
              "          dataTable['output_type'] = 'display_data';\n",
              "          await google.colab.output.renderOutput(dataTable, element);\n",
              "          const docLink = document.createElement('div');\n",
              "          docLink.innerHTML = docLinkHtml;\n",
              "          element.appendChild(docLink);\n",
              "        }\n",
              "      </script>\n",
              "    </div>\n",
              "  </div>\n",
              "  "
            ],
            "text/plain": [
              "                  id        user_id         rating\n",
              "count  381385.000000  381385.000000  381385.000000\n",
              "mean   190692.000000  182318.747077       0.997100\n",
              "std    110096.510545   45407.208780       0.053629\n",
              "min         0.000000      10.000000       0.000000\n",
              "25%     95346.000000  200153.000000       1.000000\n",
              "50%    190692.000000  200153.000000       1.000000\n",
              "75%    286038.000000  200153.000000       1.000000\n",
              "max    381384.000000  200153.000000       1.000000"
            ]
          },
          "metadata": {},
          "execution_count": 111
        }
      ],
      "source": [
        "# Make predictions\n",
        "flags = model2(users, items, feats)\n",
        "df_test['rating'] = torch.sigmoid(flags).squeeze().detach().numpy()\n",
        "submission = df_test[['id','user_id','rating']]\n",
        "submission.describe()"
      ]
    },
    {
      "cell_type": "code",
      "source": [
        "submission.loc[submission['user_id']!=200153.000000, 'rating'].mean(),submission.loc[submission['user_id']==200153.000000, 'rating'].mean()"
      ],
      "metadata": {
        "colab": {
          "base_uri": "https://localhost:8080/"
        },
        "id": "q-zr0nJzOKyj",
        "outputId": "5c461f50-b8aa-4bd2-f473-1c01926456e9"
      },
      "execution_count": null,
      "outputs": [
        {
          "output_type": "execute_result",
          "data": {
            "text/plain": [
              "(0.47126829624176025, 0.5506588220596313)"
            ]
          },
          "metadata": {},
          "execution_count": 204
        }
      ]
    },
    {
      "cell_type": "code",
      "source": [
        "submission.drop(['user_id'],axis=1,inplace=True)"
      ],
      "metadata": {
        "colab": {
          "base_uri": "https://localhost:8080/"
        },
        "id": "_nmrgr_xZFFq",
        "outputId": "06f75fd2-cc54-4861-8964-0d27568ac819"
      },
      "execution_count": null,
      "outputs": [
        {
          "output_type": "stream",
          "name": "stderr",
          "text": [
            "/usr/local/lib/python3.7/dist-packages/pandas/core/frame.py:4913: SettingWithCopyWarning: \n",
            "A value is trying to be set on a copy of a slice from a DataFrame\n",
            "\n",
            "See the caveats in the documentation: https://pandas.pydata.org/pandas-docs/stable/user_guide/indexing.html#returning-a-view-versus-a-copy\n",
            "  errors=errors,\n"
          ]
        }
      ]
    },
    {
      "cell_type": "code",
      "execution_count": null,
      "metadata": {
        "id": "DdsCZNOyMAOH"
      },
      "outputs": [],
      "source": [
        "submission.to_csv('/content/drive/MyDrive/Data_Implict_Ratings/Mar3_new_try1.csv', index=False)"
      ]
    },
    {
      "cell_type": "code",
      "source": [
        ""
      ],
      "metadata": {
        "id": "olzdraVXEDKo"
      },
      "execution_count": null,
      "outputs": []
    }
  ],
  "metadata": {
    "accelerator": "GPU",
    "colab": {
      "collapsed_sections": [],
      "name": "Recommender_Testing.ipynb",
      "provenance": []
    },
    "kernelspec": {
      "display_name": "Python 3 (ipykernel)",
      "language": "python",
      "name": "python3"
    },
    "language_info": {
      "codemirror_mode": {
        "name": "ipython",
        "version": 3
      },
      "file_extension": ".py",
      "mimetype": "text/x-python",
      "name": "python",
      "nbconvert_exporter": "python",
      "pygments_lexer": "ipython3",
      "version": "3.8.11"
    }
  },
  "nbformat": 4,
  "nbformat_minor": 0
}
